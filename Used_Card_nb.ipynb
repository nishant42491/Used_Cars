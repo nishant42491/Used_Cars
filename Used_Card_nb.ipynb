{
 "cells": [
  {
   "cell_type": "markdown",
   "id": "8808e03d",
   "metadata": {},
   "source": [
    "# Used Cars Dataset Analysis\n"
   ]
  },
  {
   "cell_type": "markdown",
   "id": "89fa7d3f",
   "metadata": {},
   "source": [
    "To Start with I wll be importing the necessary modules and read the csv file\n"
   ]
  },
  {
   "cell_type": "code",
   "execution_count": 1,
   "id": "28077f08",
   "metadata": {},
   "outputs": [
    {
     "data": {
      "text/html": [
       "<div>\n",
       "<style scoped>\n",
       "    .dataframe tbody tr th:only-of-type {\n",
       "        vertical-align: middle;\n",
       "    }\n",
       "\n",
       "    .dataframe tbody tr th {\n",
       "        vertical-align: top;\n",
       "    }\n",
       "\n",
       "    .dataframe thead th {\n",
       "        text-align: right;\n",
       "    }\n",
       "</style>\n",
       "<table border=\"1\" class=\"dataframe\">\n",
       "  <thead>\n",
       "    <tr style=\"text-align: right;\">\n",
       "      <th></th>\n",
       "      <th>S.No.</th>\n",
       "      <th>Name</th>\n",
       "      <th>Location</th>\n",
       "      <th>Year</th>\n",
       "      <th>Kilometers_Driven</th>\n",
       "      <th>Fuel_Type</th>\n",
       "      <th>Transmission</th>\n",
       "      <th>Owner_Type</th>\n",
       "      <th>Mileage</th>\n",
       "      <th>Engine</th>\n",
       "      <th>Power</th>\n",
       "      <th>Seats</th>\n",
       "      <th>New_Price</th>\n",
       "      <th>Price</th>\n",
       "    </tr>\n",
       "  </thead>\n",
       "  <tbody>\n",
       "    <tr>\n",
       "      <th>0</th>\n",
       "      <td>0</td>\n",
       "      <td>Maruti Wagon R LXI CNG</td>\n",
       "      <td>Mumbai</td>\n",
       "      <td>2010</td>\n",
       "      <td>72000</td>\n",
       "      <td>CNG</td>\n",
       "      <td>Manual</td>\n",
       "      <td>First</td>\n",
       "      <td>26.6 km/kg</td>\n",
       "      <td>998 CC</td>\n",
       "      <td>58.16 bhp</td>\n",
       "      <td>5.0</td>\n",
       "      <td>NaN</td>\n",
       "      <td>1.75</td>\n",
       "    </tr>\n",
       "    <tr>\n",
       "      <th>1</th>\n",
       "      <td>1</td>\n",
       "      <td>Hyundai Creta 1.6 CRDi SX Option</td>\n",
       "      <td>Pune</td>\n",
       "      <td>2015</td>\n",
       "      <td>41000</td>\n",
       "      <td>Diesel</td>\n",
       "      <td>Manual</td>\n",
       "      <td>First</td>\n",
       "      <td>19.67 kmpl</td>\n",
       "      <td>1582 CC</td>\n",
       "      <td>126.2 bhp</td>\n",
       "      <td>5.0</td>\n",
       "      <td>NaN</td>\n",
       "      <td>12.50</td>\n",
       "    </tr>\n",
       "    <tr>\n",
       "      <th>2</th>\n",
       "      <td>2</td>\n",
       "      <td>Honda Jazz V</td>\n",
       "      <td>Chennai</td>\n",
       "      <td>2011</td>\n",
       "      <td>46000</td>\n",
       "      <td>Petrol</td>\n",
       "      <td>Manual</td>\n",
       "      <td>First</td>\n",
       "      <td>18.2 kmpl</td>\n",
       "      <td>1199 CC</td>\n",
       "      <td>88.7 bhp</td>\n",
       "      <td>5.0</td>\n",
       "      <td>8.61 Lakh</td>\n",
       "      <td>4.50</td>\n",
       "    </tr>\n",
       "    <tr>\n",
       "      <th>3</th>\n",
       "      <td>3</td>\n",
       "      <td>Maruti Ertiga VDI</td>\n",
       "      <td>Chennai</td>\n",
       "      <td>2012</td>\n",
       "      <td>87000</td>\n",
       "      <td>Diesel</td>\n",
       "      <td>Manual</td>\n",
       "      <td>First</td>\n",
       "      <td>20.77 kmpl</td>\n",
       "      <td>1248 CC</td>\n",
       "      <td>88.76 bhp</td>\n",
       "      <td>7.0</td>\n",
       "      <td>NaN</td>\n",
       "      <td>6.00</td>\n",
       "    </tr>\n",
       "    <tr>\n",
       "      <th>4</th>\n",
       "      <td>4</td>\n",
       "      <td>Audi A4 New 2.0 TDI Multitronic</td>\n",
       "      <td>Coimbatore</td>\n",
       "      <td>2013</td>\n",
       "      <td>40670</td>\n",
       "      <td>Diesel</td>\n",
       "      <td>Automatic</td>\n",
       "      <td>Second</td>\n",
       "      <td>15.2 kmpl</td>\n",
       "      <td>1968 CC</td>\n",
       "      <td>140.8 bhp</td>\n",
       "      <td>5.0</td>\n",
       "      <td>NaN</td>\n",
       "      <td>17.74</td>\n",
       "    </tr>\n",
       "    <tr>\n",
       "      <th>5</th>\n",
       "      <td>5</td>\n",
       "      <td>Hyundai EON LPG Era Plus Option</td>\n",
       "      <td>Hyderabad</td>\n",
       "      <td>2012</td>\n",
       "      <td>75000</td>\n",
       "      <td>LPG</td>\n",
       "      <td>Manual</td>\n",
       "      <td>First</td>\n",
       "      <td>21.1 km/kg</td>\n",
       "      <td>814 CC</td>\n",
       "      <td>55.2 bhp</td>\n",
       "      <td>5.0</td>\n",
       "      <td>NaN</td>\n",
       "      <td>2.35</td>\n",
       "    </tr>\n",
       "    <tr>\n",
       "      <th>6</th>\n",
       "      <td>6</td>\n",
       "      <td>Nissan Micra Diesel XV</td>\n",
       "      <td>Jaipur</td>\n",
       "      <td>2013</td>\n",
       "      <td>86999</td>\n",
       "      <td>Diesel</td>\n",
       "      <td>Manual</td>\n",
       "      <td>First</td>\n",
       "      <td>23.08 kmpl</td>\n",
       "      <td>1461 CC</td>\n",
       "      <td>63.1 bhp</td>\n",
       "      <td>5.0</td>\n",
       "      <td>NaN</td>\n",
       "      <td>3.50</td>\n",
       "    </tr>\n",
       "    <tr>\n",
       "      <th>7</th>\n",
       "      <td>7</td>\n",
       "      <td>Toyota Innova Crysta 2.8 GX AT 8S</td>\n",
       "      <td>Mumbai</td>\n",
       "      <td>2016</td>\n",
       "      <td>36000</td>\n",
       "      <td>Diesel</td>\n",
       "      <td>Automatic</td>\n",
       "      <td>First</td>\n",
       "      <td>11.36 kmpl</td>\n",
       "      <td>2755 CC</td>\n",
       "      <td>171.5 bhp</td>\n",
       "      <td>8.0</td>\n",
       "      <td>21 Lakh</td>\n",
       "      <td>17.50</td>\n",
       "    </tr>\n",
       "    <tr>\n",
       "      <th>8</th>\n",
       "      <td>8</td>\n",
       "      <td>Volkswagen Vento Diesel Comfortline</td>\n",
       "      <td>Pune</td>\n",
       "      <td>2013</td>\n",
       "      <td>64430</td>\n",
       "      <td>Diesel</td>\n",
       "      <td>Manual</td>\n",
       "      <td>First</td>\n",
       "      <td>20.54 kmpl</td>\n",
       "      <td>1598 CC</td>\n",
       "      <td>103.6 bhp</td>\n",
       "      <td>5.0</td>\n",
       "      <td>NaN</td>\n",
       "      <td>5.20</td>\n",
       "    </tr>\n",
       "    <tr>\n",
       "      <th>9</th>\n",
       "      <td>9</td>\n",
       "      <td>Tata Indica Vista Quadrajet LS</td>\n",
       "      <td>Chennai</td>\n",
       "      <td>2012</td>\n",
       "      <td>65932</td>\n",
       "      <td>Diesel</td>\n",
       "      <td>Manual</td>\n",
       "      <td>Second</td>\n",
       "      <td>22.3 kmpl</td>\n",
       "      <td>1248 CC</td>\n",
       "      <td>74 bhp</td>\n",
       "      <td>5.0</td>\n",
       "      <td>NaN</td>\n",
       "      <td>1.95</td>\n",
       "    </tr>\n",
       "  </tbody>\n",
       "</table>\n",
       "</div>"
      ],
      "text/plain": [
       "   S.No.                                 Name    Location  Year  \\\n",
       "0      0               Maruti Wagon R LXI CNG      Mumbai  2010   \n",
       "1      1     Hyundai Creta 1.6 CRDi SX Option        Pune  2015   \n",
       "2      2                         Honda Jazz V     Chennai  2011   \n",
       "3      3                    Maruti Ertiga VDI     Chennai  2012   \n",
       "4      4      Audi A4 New 2.0 TDI Multitronic  Coimbatore  2013   \n",
       "5      5      Hyundai EON LPG Era Plus Option   Hyderabad  2012   \n",
       "6      6               Nissan Micra Diesel XV      Jaipur  2013   \n",
       "7      7    Toyota Innova Crysta 2.8 GX AT 8S      Mumbai  2016   \n",
       "8      8  Volkswagen Vento Diesel Comfortline        Pune  2013   \n",
       "9      9       Tata Indica Vista Quadrajet LS     Chennai  2012   \n",
       "\n",
       "   Kilometers_Driven Fuel_Type Transmission Owner_Type     Mileage   Engine  \\\n",
       "0              72000       CNG       Manual      First  26.6 km/kg   998 CC   \n",
       "1              41000    Diesel       Manual      First  19.67 kmpl  1582 CC   \n",
       "2              46000    Petrol       Manual      First   18.2 kmpl  1199 CC   \n",
       "3              87000    Diesel       Manual      First  20.77 kmpl  1248 CC   \n",
       "4              40670    Diesel    Automatic     Second   15.2 kmpl  1968 CC   \n",
       "5              75000       LPG       Manual      First  21.1 km/kg   814 CC   \n",
       "6              86999    Diesel       Manual      First  23.08 kmpl  1461 CC   \n",
       "7              36000    Diesel    Automatic      First  11.36 kmpl  2755 CC   \n",
       "8              64430    Diesel       Manual      First  20.54 kmpl  1598 CC   \n",
       "9              65932    Diesel       Manual     Second   22.3 kmpl  1248 CC   \n",
       "\n",
       "       Power  Seats  New_Price  Price  \n",
       "0  58.16 bhp    5.0        NaN   1.75  \n",
       "1  126.2 bhp    5.0        NaN  12.50  \n",
       "2   88.7 bhp    5.0  8.61 Lakh   4.50  \n",
       "3  88.76 bhp    7.0        NaN   6.00  \n",
       "4  140.8 bhp    5.0        NaN  17.74  \n",
       "5   55.2 bhp    5.0        NaN   2.35  \n",
       "6   63.1 bhp    5.0        NaN   3.50  \n",
       "7  171.5 bhp    8.0    21 Lakh  17.50  \n",
       "8  103.6 bhp    5.0        NaN   5.20  \n",
       "9     74 bhp    5.0        NaN   1.95  "
      ]
     },
     "execution_count": 1,
     "metadata": {},
     "output_type": "execute_result"
    }
   ],
   "source": [
    "import numpy as np\n",
    "import pandas as pd\n",
    "import matplotlib.pyplot as plt\n",
    "from sklearn.preprocessing import OneHotEncoder\n",
    "from sklearn.preprocessing import LabelEncoder\n",
    "from sklearn.impute import SimpleImputer\n",
    "\n",
    "dt=pd.read_csv(\"used_cars_data.csv\")\n",
    "dt.head(10)"
   ]
  },
  {
   "cell_type": "code",
   "execution_count": 2,
   "id": "3f16a30c",
   "metadata": {},
   "outputs": [],
   "source": [
    "%matplotlib inline"
   ]
  },
  {
   "cell_type": "code",
   "execution_count": 3,
   "id": "e7f93312",
   "metadata": {},
   "outputs": [
    {
     "name": "stdout",
     "output_type": "stream",
     "text": [
      "<class 'pandas.core.frame.DataFrame'>\n",
      "RangeIndex: 7253 entries, 0 to 7252\n",
      "Data columns (total 14 columns):\n",
      " #   Column             Non-Null Count  Dtype  \n",
      "---  ------             --------------  -----  \n",
      " 0   S.No.              7253 non-null   int64  \n",
      " 1   Name               7253 non-null   object \n",
      " 2   Location           7253 non-null   object \n",
      " 3   Year               7253 non-null   int64  \n",
      " 4   Kilometers_Driven  7253 non-null   int64  \n",
      " 5   Fuel_Type          7253 non-null   object \n",
      " 6   Transmission       7253 non-null   object \n",
      " 7   Owner_Type         7253 non-null   object \n",
      " 8   Mileage            7251 non-null   object \n",
      " 9   Engine             7207 non-null   object \n",
      " 10  Power              7207 non-null   object \n",
      " 11  Seats              7200 non-null   float64\n",
      " 12  New_Price          1006 non-null   object \n",
      " 13  Price              6019 non-null   float64\n",
      "dtypes: float64(2), int64(3), object(9)\n",
      "memory usage: 793.4+ KB\n"
     ]
    }
   ],
   "source": [
    "dt.info()"
   ]
  },
  {
   "cell_type": "markdown",
   "id": "28983d56",
   "metadata": {},
   "source": [
    "The Data consists of several object types which could be converted to float types to hwlp contribute to the analysis.\n",
    "the Data also consists of several null values which we can process during the data cleaning steps."
   ]
  },
  {
   "cell_type": "markdown",
   "id": "2a8e4996",
   "metadata": {},
   "source": [
    "## Data Cleaning\n"
   ]
  },
  {
   "cell_type": "markdown",
   "id": "1125f8f5",
   "metadata": {},
   "source": [
    "1>To clean cells like Mileage engine etc we have to delete the scripts appearing after the numerical values and convert it to float data type.<br>\n",
    "2>We have to transform Categorical features using onehotencoder or label encoder to numerical features.<br>\n",
    "3>All of the former is done in the cells below:\n"
   ]
  },
  {
   "cell_type": "code",
   "execution_count": 4,
   "id": "e47a2d20",
   "metadata": {},
   "outputs": [
    {
     "name": "stdout",
     "output_type": "stream",
     "text": [
      "<class 'pandas.core.frame.DataFrame'>\n",
      "RangeIndex: 7253 entries, 0 to 7252\n",
      "Data columns (total 22 columns):\n",
      " #   Column               Non-Null Count  Dtype  \n",
      "---  ------               --------------  -----  \n",
      " 0   S.No.                7253 non-null   float64\n",
      " 1   Year                 7253 non-null   float64\n",
      " 2   Kilometers_Driven    7253 non-null   float64\n",
      " 3   Fuel_Type            7253 non-null   float64\n",
      " 4   Transmission         7253 non-null   float64\n",
      " 5   Owner_Type           7253 non-null   float64\n",
      " 6   Mileage              7253 non-null   float64\n",
      " 7   Engine               7253 non-null   float64\n",
      " 8   Power                7253 non-null   float64\n",
      " 9   Seats                7253 non-null   float64\n",
      " 10  Price                7253 non-null   float64\n",
      " 11  Location_Ahmedabad   7253 non-null   float64\n",
      " 12  Location_Bangalore   7253 non-null   float64\n",
      " 13  Location_Chennai     7253 non-null   float64\n",
      " 14  Location_Coimbatore  7253 non-null   float64\n",
      " 15  Location_Delhi       7253 non-null   float64\n",
      " 16  Location_Hyderabad   7253 non-null   float64\n",
      " 17  Location_Jaipur      7253 non-null   float64\n",
      " 18  Location_Kochi       7253 non-null   float64\n",
      " 19  Location_Kolkata     7253 non-null   float64\n",
      " 20  Location_Mumbai      7253 non-null   float64\n",
      " 21  Location_Pune        7253 non-null   float64\n",
      "dtypes: float64(22)\n",
      "memory usage: 1.2 MB\n"
     ]
    }
   ],
   "source": [
    "dt['Mileage'] = dt['Mileage'].map(lambda x: str(x).rstrip(' km/plkm/kg'))\n",
    "dt['Mileage']=dt['Mileage'].astype(str).astype(float)\n",
    "dt['Engine'] = dt['Engine'].map(lambda x: str(x).rstrip('  CC'))\n",
    "dt['Engine']=dt['Engine'].astype(str).astype(float)\n",
    "\n",
    "dt['Power'] = dt['Power'].map(lambda x: str(x).strip('null bhpa'))\n",
    "dt.replace(\"\",np.NaN,inplace=True)\n",
    "dt['Power']=dt['Power'].astype(str).astype(float)\n",
    "dt.drop([\"New_Price\"],axis=1,inplace=True)\n",
    "\n",
    "OH_encoder = OneHotEncoder(handle_unknown='ignore', sparse=False)\n",
    "OH_cols_train = pd.DataFrame(OH_encoder.fit_transform(dt[[\"Location\"]]))\n",
    "OH_cols_train.columns=OH_encoder.get_feature_names([\"Location\"])\n",
    "dt = dt.drop([\"Location\"], axis=1)\n",
    "dt = pd.concat([dt, OH_cols_train], axis=1)\n",
    "label_encoder=LabelEncoder()\n",
    "dt[\"Fuel_Type\"] = label_encoder.fit_transform(dt[\"Fuel_Type\"])\n",
    "dt['Transmission']=label_encoder.fit_transform(dt[\"Transmission\"])\n",
    "dt[\"Owner_Type\"]=label_encoder.fit_transform(dt[\"Owner_Type\"])\n",
    "dt_num = dt.drop(\"Name\", axis=1)\n",
    "imputer = SimpleImputer(strategy=\"median\")\n",
    "imputer.fit(dt_num)\n",
    "X=imputer.transform(dt_num)\n",
    "dt = pd.DataFrame(X, columns=dt_num.columns)\n",
    "\n",
    "\n",
    "dt.info()"
   ]
  },
  {
   "cell_type": "markdown",
   "id": "3b8d44c4",
   "metadata": {},
   "source": [
    "<hr><p1>Here we remove the new price column as it does not contain enough entries</p1><br>\n",
    "<p1>We encoded location wiith the help of one hot encoder and the rest of the categorical variables with the help of the label encoder<p1><br>"
   ]
  },
  {
   "cell_type": "markdown",
   "id": "fede6881",
   "metadata": {},
   "source": [
    "# Preparing The data<br>\n",
    "## Feature Engineering<br>"
   ]
  },
  {
   "cell_type": "markdown",
   "id": "938228da",
   "metadata": {},
   "source": [
    "<p1> We try and convert the features Mileage Engine Power into a metric called Performance_measure</p1><br>\n"
   ]
  },
  {
   "cell_type": "code",
   "execution_count": 5,
   "id": "0a6b576d",
   "metadata": {
    "scrolled": false
   },
   "outputs": [],
   "source": [
    "\n",
    "dt[\"Performance_measure\"] = (dt[\"Mileage\"]+dt[\"Engine\"]+dt[\"Power\"])/3\n",
    "dt.drop([\"Mileage\",\"Engine\",\"Power\"],axis=1,inplace=True)\n"
   ]
  },
  {
   "cell_type": "code",
   "execution_count": 6,
   "id": "adcd0aa4",
   "metadata": {
    "scrolled": true
   },
   "outputs": [
    {
     "name": "stdout",
     "output_type": "stream",
     "text": [
      "<class 'pandas.core.frame.DataFrame'>\n",
      "RangeIndex: 7253 entries, 0 to 7252\n",
      "Data columns (total 19 columns):\n",
      " #   Column               Non-Null Count  Dtype  \n",
      "---  ------               --------------  -----  \n",
      " 0   Year                 7253 non-null   float64\n",
      " 1   Kilometers_Driven    7253 non-null   float64\n",
      " 2   Fuel_Type            7253 non-null   float64\n",
      " 3   Transmission         7253 non-null   float64\n",
      " 4   Owner_Type           7253 non-null   float64\n",
      " 5   Seats                7253 non-null   float64\n",
      " 6   Price                7253 non-null   float64\n",
      " 7   Location_Ahmedabad   7253 non-null   float64\n",
      " 8   Location_Bangalore   7253 non-null   float64\n",
      " 9   Location_Chennai     7253 non-null   float64\n",
      " 10  Location_Coimbatore  7253 non-null   float64\n",
      " 11  Location_Delhi       7253 non-null   float64\n",
      " 12  Location_Hyderabad   7253 non-null   float64\n",
      " 13  Location_Jaipur      7253 non-null   float64\n",
      " 14  Location_Kochi       7253 non-null   float64\n",
      " 15  Location_Kolkata     7253 non-null   float64\n",
      " 16  Location_Mumbai      7253 non-null   float64\n",
      " 17  Location_Pune        7253 non-null   float64\n",
      " 18  Performance_measure  7253 non-null   float64\n",
      "dtypes: float64(19)\n",
      "memory usage: 1.1 MB\n"
     ]
    }
   ],
   "source": [
    "\n",
    "dt.drop(['S.No.'],axis=1,inplace=True)\n",
    "dt.info()"
   ]
  },
  {
   "cell_type": "markdown",
   "id": "e804406a",
   "metadata": {},
   "source": [
    "# Splitting The data<br>\n",
    "<p1> Here we split the data using scikit-learn's train_test_split Function</p1>"
   ]
  },
  {
   "cell_type": "code",
   "execution_count": 7,
   "id": "20f363b7",
   "metadata": {},
   "outputs": [],
   "source": [
    "X=dt.drop([\"Price\"],axis=1)\n",
    "y=dt[\"Price\"]"
   ]
  },
  {
   "cell_type": "code",
   "execution_count": 8,
   "id": "5766221d",
   "metadata": {},
   "outputs": [],
   "source": [
    "from sklearn.model_selection import train_test_split\n",
    "Xtrain,Xval,ytrain,yval=train_test_split(X,y,test_size=0.2,random_state=42)"
   ]
  },
  {
   "cell_type": "markdown",
   "id": "8e89c4dc",
   "metadata": {},
   "source": [
    "# Visualisations \n",
    "<p1> Here are some analysis points with the help of visualisations</p1>"
   ]
  },
  {
   "cell_type": "code",
   "execution_count": 9,
   "id": "b8a9455a",
   "metadata": {},
   "outputs": [
    {
     "data": {
      "text/plain": [
       "<matplotlib.legend.Legend at 0x25e7a3e93d0>"
      ]
     },
     "execution_count": 9,
     "metadata": {},
     "output_type": "execute_result"
    },
    {
     "data": {
      "image/png": "[encoded data removed]",
      "text/plain": [
       "<Figure size 432x288 with 1 Axes>"
      ]
     },
     "metadata": {
      "needs_background": "light"
     },
     "output_type": "display_data"
    }
   ],
   "source": [
    "plt.hist(Xtrain[\"Location_Mumbai\"],alpha=0.5,label=\"Mumbai\",bins=100)\n",
    "plt.hist(Xtrain[\"Location_Pune\"], bins=100, alpha=0.5, label=\"Pune\")\n",
    "plt.hist(Xtrain[\"Location_Kolkata\"], bins=100, alpha=0.5, label=\"Kolkata\")\n",
    "plt.hist(Xtrain[\"Location_Kochi\"], bins=100, alpha=0.5, label=\"Kochi\")\n",
    "plt.hist(Xtrain[\"Location_Jaipur\"], bins=100, alpha=0.5, label=\"Jaipur\")\n",
    "plt.hist(Xtrain[\"Location_Hyderabad\"], bins=100, alpha=0.5, label=\"Hyderabad\")\n",
    "plt.hist(Xtrain[\"Location_Delhi\"], bins=100, alpha=0.5, label=\"Delhi\")\n",
    "plt.hist(Xtrain[\"Location_Coimbatore\"], bins=100, alpha=0.5, label=\"Coimbatore\")\n",
    "plt.hist(Xtrain[\"Location_Chennai\"], bins=100, alpha=0.5, label=\"Chennai\")\n",
    "plt.hist(Xtrain[\"Location_Bangalore\"], bins=100, alpha=0.5, label=\"Bangalore\")\n",
    "plt.hist(Xtrain[\"Location_Ahmedabad\"], bins=100, alpha=0.5, label=\"Ahmedabad\")\n",
    "plt.xlabel(\"Location\", size=14)\n",
    "plt.ylabel(\"Count\", size=14)\n",
    "plt.title(\"Location Histogram\")\n",
    "plt.legend(loc=1, prop={\"size\":8})\n"
   ]
  },
  {
   "cell_type": "code",
   "execution_count": 10,
   "id": "2d4aeef1",
   "metadata": {},
   "outputs": [
    {
     "data": {
      "text/plain": [
       "Text(0, 0.5, 'Price')"
      ]
     },
     "execution_count": 10,
     "metadata": {},
     "output_type": "execute_result"
    },
    {
     "data": {
      "image/png": "[encoded data removed]",
      "text/plain": [
       "<Figure size 432x288 with 1 Axes>"
      ]
     },
     "metadata": {
      "needs_background": "light"
     },
     "output_type": "display_data"
    }
   ],
   "source": [
    "plt.scatter(Xtrain[\"Location_Mumbai\"],ytrain,alpha=0.5)\n",
    "plt.xlabel(\"Location Mumbai\")\n",
    "plt.ylabel(\"Price\")"
   ]
  },
  {
   "cell_type": "code",
   "execution_count": 11,
   "id": "5878a10f",
   "metadata": {},
   "outputs": [
    {
     "data": {
      "text/plain": [
       "Text(0, 0.5, 'Price')"
      ]
     },
     "execution_count": 11,
     "metadata": {},
     "output_type": "execute_result"
    },
    {
     "data": {
      "image/png": "[encoded data removed]",
      "text/plain": [
       "<Figure size 432x288 with 1 Axes>"
      ]
     },
     "metadata": {
      "needs_background": "light"
     },
     "output_type": "display_data"
    }
   ],
   "source": [
    "plt.scatter(Xtrain[\"Location_Pune\"],ytrain,alpha=0.5)\n",
    "plt.xlabel(\"Location Pune\")\n",
    "plt.ylabel(\"Price\")"
   ]
  },
  {
   "cell_type": "markdown",
   "id": "0163a0c3",
   "metadata": {},
   "source": [
    "<p1>Inspecting the graphs Most Cars Are maufactured in Mumbai as shown in the histogram</p1><br>\n",
    "<p1>One possible reason is The resale value of cars made in mumbai is much higher than the ones made in pune for example</p1>\n"
   ]
  },
  {
   "cell_type": "code",
   "execution_count": 12,
   "id": "5dea09bd",
   "metadata": {},
   "outputs": [
    {
     "data": {
      "text/plain": [
       "Text(0.5, 1.0, 'Performance_measure V/s Year')"
      ]
     },
     "execution_count": 12,
     "metadata": {},
     "output_type": "execute_result"
    },
    {
     "data": {
      "image/png": "[encoded data removed]",
      "text/plain": [
       "<Figure size 432x288 with 1 Axes>"
      ]
     },
     "metadata": {
      "needs_background": "light"
     },
     "output_type": "display_data"
    }
   ],
   "source": [
    "plt.scatter(Xtrain[\"Performance_measure\"],Xtrain[\"Year\"],alpha=0.7)\n",
    "plt.xlabel(\"Performance_measure\")\n",
    "plt.ylabel(\"Year\")\n",
    "plt.title(\"Performance_measure V/s Year\")"
   ]
  },
  {
   "cell_type": "code",
   "execution_count": 13,
   "id": "9f3ca7bc",
   "metadata": {},
   "outputs": [
    {
     "data": {
      "text/plain": [
       "Text(0.5, 1.0, 'Year V/s Price')"
      ]
     },
     "execution_count": 13,
     "metadata": {},
     "output_type": "execute_result"
    },
    {
     "data": {
      "image/png": "[encoded data removed]",
      "text/plain": [
       "<Figure size 432x288 with 1 Axes>"
      ]
     },
     "metadata": {
      "needs_background": "light"
     },
     "output_type": "display_data"
    }
   ],
   "source": [
    "plt.scatter(Xtrain[\"Year\"],ytrain,alpha=0.5)\n",
    "plt.xlabel(\"Year\")\n",
    "plt.ylabel(\"Price\")\n",
    "plt.title(\"Year V/s Price\")"
   ]
  },
  {
   "cell_type": "markdown",
   "id": "018312dc",
   "metadata": {},
   "source": [
    "<p1>As you can see it very clear from the graph above that The year of manufacture has a sustained impact on the resale value of the car</p><br>\n",
    "<p1>The later the car was manufactured the higher the resale value</p1><br>\n",
    "<p1>One reason for this could be that The later the car was manufactured the better the performance measure wasduring the time of sale as highlighed by the Perfomance measure V/s Year Graph</p1>\n"
   ]
  },
  {
   "cell_type": "code",
   "execution_count": 14,
   "id": "1f7f5f6f",
   "metadata": {},
   "outputs": [
    {
     "data": {
      "text/plain": [
       "Text(0.5, 1.0, 'Seats v/s Price')"
      ]
     },
     "execution_count": 14,
     "metadata": {},
     "output_type": "execute_result"
    },
    {
     "data": {
      "image/png": "[encoded data removed]",
      "text/plain": [
       "<Figure size 432x288 with 1 Axes>"
      ]
     },
     "metadata": {
      "needs_background": "light"
     },
     "output_type": "display_data"
    }
   ],
   "source": [
    "plt.scatter(Xtrain[\"Seats\"],ytrain,alpha=0.5)\n",
    "plt.xlabel(\"Seats\")\n",
    "plt.ylabel(\"Price\")\n",
    "plt.title(\"Seats v/s Price\")"
   ]
  },
  {
   "cell_type": "code",
   "execution_count": 15,
   "id": "5c2caf33",
   "metadata": {},
   "outputs": [
    {
     "data": {
      "text/plain": [
       "Text(0.5, 1.0, 'Histogram of Seats feature')"
      ]
     },
     "execution_count": 15,
     "metadata": {},
     "output_type": "execute_result"
    },
    {
     "data": {
      "image/png": "[encoded data removed]",
      "text/plain": [
       "<Figure size 432x288 with 1 Axes>"
      ]
     },
     "metadata": {
      "needs_background": "light"
     },
     "output_type": "display_data"
    }
   ],
   "source": [
    "plt.hist(Xtrain[\"Seats\"],alpha=0.5)\n",
    "plt.xlabel(\"# Seats\")\n",
    "plt.ylabel(\"Count\")\n",
    "(plt.title(\"Histogram of Seats feature\"))"
   ]
  },
  {
   "cell_type": "markdown",
   "id": "fa1d0ac1",
   "metadata": {},
   "source": [
    "<p1>The Two Graphs above display certain pecularities ie. They are distinctly similiar</p1><br>\n",
    "<p1>This provides a link of the concrete relationship between number of seats manufactured and the resale value of cars with a certain number of seats</p1><br>\n",
    "<p1>The car manufacturers are compelled to make 5 seater or 7 seater vehicles as people prefer those cars as they satisfy the family requirements</p1><br>\n",
    "<p1>This gives us a slight hint of the process of natural selection occuring during car manufacturing as those cars are selected to be produced which satisfy the family demands of transportion ie 5 seater or 7 vehicles and boost resale value<br>All other vehicles are are produced on a lesser scale as the market dictates that they are not in demand>/p1> \n"
   ]
  },
  {
   "cell_type": "markdown",
   "id": "6635ffa4",
   "metadata": {},
   "source": [
    "# Predictions\n",
    "<p1>For Predicting the resale value of a given car we can use the following procedure</p1>"
   ]
  },
  {
   "cell_type": "code",
   "execution_count": 16,
   "id": "5bfac753",
   "metadata": {},
   "outputs": [
    {
     "name": "stdout",
     "output_type": "stream",
     "text": [
      "4.880343584577038\n"
     ]
    }
   ],
   "source": [
    "from sklearn.ensemble import RandomForestRegressor\n",
    "from sklearn.metrics import mean_squared_error\n",
    "rf_reg=RandomForestRegressor()\n",
    "rf_reg.fit(Xtrain,ytrain)\n",
    "p=rf_reg.predict(Xval)\n",
    "lin_mse = mean_squared_error(yval,p)\n",
    "lin_rmse = np.sqrt(lin_mse)\n",
    "print(lin_rmse)"
   ]
  },
  {
   "cell_type": "markdown",
   "id": "9853b306",
   "metadata": {},
   "source": [
    "Therefore the Root_Mean_squared_error is around 5 using a random forest regressor "
   ]
  }
 ],
 "metadata": {
  "kernelspec": {
   "display_name": "Python 3",
   "language": "python",
   "name": "python3"
  },
  "language_info": {
   "codemirror_mode": {
    "name": "ipython",
    "version": 3
   },
   "file_extension": ".py",
   "mimetype": "text/x-python",
   "name": "python",
   "nbconvert_exporter": "python",
   "pygments_lexer": "ipython3",
   "version": "3.8.8"
  }
 },
 "nbformat": 4,
 "nbformat_minor": 5
}
